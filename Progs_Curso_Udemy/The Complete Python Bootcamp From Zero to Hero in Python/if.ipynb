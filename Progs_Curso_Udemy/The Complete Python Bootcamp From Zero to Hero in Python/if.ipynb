{
 "cells": [
  {
   "cell_type": "code",
   "execution_count": 7,
   "metadata": {},
   "outputs": [
    {
     "name": "stdout",
     "output_type": "stream",
     "text": [
      "Mentira\n"
     ]
    }
   ],
   "source": [
    "gauterio = 'Lindo gostoso'\n",
    "\n",
    "if gauterio == 'gordo':\n",
    "    print('ITS TRUE!')\n",
    "elif gauterio == 'viado':\n",
    "    print('Fatos')\n",
    "else: \n",
    "    print('Mentira')"
   ]
  },
  {
   "cell_type": "code",
   "execution_count": 9,
   "metadata": {},
   "outputs": [
    {
     "name": "stdout",
     "output_type": "stream",
     "text": [
      "Quem?\n"
     ]
    }
   ],
   "source": [
    "name = 'Gauterio'\n",
    "\n",
    "if name == 'Gabriel':\n",
    "    print('Eh viadao')\n",
    "elif name == 'Bittencourt':\n",
    "    print('Pobre')\n",
    "else:\n",
    "    print('Quem?')"
   ]
  },
  {
   "cell_type": "code",
   "execution_count": null,
   "metadata": {},
   "outputs": [],
   "source": []
  }
 ],
 "metadata": {
  "kernelspec": {
   "display_name": "Python 3",
   "language": "python",
   "name": "python3"
  },
  "language_info": {
   "codemirror_mode": {
    "name": "ipython",
    "version": 3
   },
   "file_extension": ".py",
   "mimetype": "text/x-python",
   "name": "python",
   "nbconvert_exporter": "python",
   "pygments_lexer": "ipython3",
   "version": "3.11.2"
  },
  "orig_nbformat": 4,
  "vscode": {
   "interpreter": {
    "hash": "48c4422cbeabee5ddda685a70b33bef52fbe0d33bcd35df3f9247bd78183b7fb"
   }
  }
 },
 "nbformat": 4,
 "nbformat_minor": 2
}
