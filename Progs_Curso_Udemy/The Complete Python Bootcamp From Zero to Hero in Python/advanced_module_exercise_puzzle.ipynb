{
 "cells": [
  {
   "cell_type": "code",
   "execution_count": 1,
   "metadata": {},
   "outputs": [],
   "source": [
    "import shutil"
   ]
  },
  {
   "cell_type": "code",
   "execution_count": 2,
   "metadata": {},
   "outputs": [
    {
     "data": {
      "text/plain": [
       "'c:\\\\Users\\\\lucas\\\\OneDrive - PUCRS - BR\\\\Arquivos Aula\\\\CC\\\\Projetos\\\\MyPythonStuff'"
      ]
     },
     "execution_count": 2,
     "metadata": {},
     "output_type": "execute_result"
    }
   ],
   "source": [
    "pwd"
   ]
  },
  {
   "cell_type": "code",
   "execution_count": 5,
   "metadata": {},
   "outputs": [],
   "source": [
    "path = 'c:\\\\Users\\\\lucas\\\\OneDrive - PUCRS - BR\\\\Arquivos Aula\\\\CC\\\\Projetos\\\\MyPythonStuff\\\\Complete-Python-3-Bootcamp-master\\\\12-Advanced Python Modules\\\\08-Advanced-Python-Module-Exercise\\\\unzip_me_for_instructions.zip'"
   ]
  },
  {
   "cell_type": "code",
   "execution_count": 6,
   "metadata": {},
   "outputs": [],
   "source": [
    "shutil.unpack_archive(path, 'unzip_exercise', 'zip')"
   ]
  },
  {
   "cell_type": "code",
   "execution_count": 7,
   "metadata": {},
   "outputs": [],
   "source": [
    "import os"
   ]
  },
  {
   "cell_type": "code",
   "execution_count": 8,
   "metadata": {},
   "outputs": [],
   "source": [
    "folder_path = 'c:\\\\Users\\\\lucas\\\\OneDrive - PUCRS - BR\\\\Arquivos Aula\\\\CC\\\\Projetos\\\\MyPythonStuff\\\\extracted_exercise'"
   ]
  },
  {
   "cell_type": "markdown",
   "metadata": {},
   "source": [
    "OPTION 1"
   ]
  },
  {
   "cell_type": "code",
   "execution_count": 72,
   "metadata": {},
   "outputs": [
    {
     "name": "stdout",
     "output_type": "stream",
     "text": [
      "719-266-2837\n"
     ]
    },
    {
     "data": {
      "text/plain": [
       "0.03399820000049658"
      ]
     },
     "execution_count": 72,
     "metadata": {},
     "output_type": "execute_result"
    }
   ],
   "source": [
    "\n",
    "import timeit\n",
    "stmt = '''\n",
    "func()\n",
    "'''\n",
    "\n",
    "setup = '''\n",
    "import os\n",
    "import re\n",
    "\n",
    "folder_path = r'c:\\\\Users\\\\lucas\\\\OneDrive - PUCRS - BR\\\\Arquivos Aula\\\\CC\\\\Projetos\\\\MyPythonStuff\\\\extracted_exercise'\n",
    "phone_match = r'\\\\d{3}-\\\\d{3}-\\\\d{4}'\n",
    "\n",
    "def func():\n",
    "    for folder,_,file in os.walk(folder_path):\n",
    "        for fil in file:\n",
    "            full_path = os.path.join(folder,fil)\n",
    "            if os.path.exists(full_path):\n",
    "                with open(full_path) as opened_file:\n",
    "                    for match in re.finditer(phone_match,opened_file.read()):\n",
    "                        print(match.group())\n",
    "'''\n",
    "\n",
    "timeit.timeit(stmt,setup,number=1)"
   ]
  },
  {
   "cell_type": "markdown",
   "metadata": {},
   "source": [
    "OPTION 2"
   ]
  },
  {
   "cell_type": "code",
   "execution_count": 70,
   "metadata": {},
   "outputs": [
    {
     "name": "stdout",
     "output_type": "stream",
     "text": [
      "719-266-2837\n"
     ]
    },
    {
     "data": {
      "text/plain": [
       "0.034147200000006706"
      ]
     },
     "execution_count": 70,
     "metadata": {},
     "output_type": "execute_result"
    }
   ],
   "source": [
    "import timeit\n",
    "stmt = '''\n",
    "func()\n",
    "'''\n",
    "\n",
    "setup = '''\n",
    "import os\n",
    "import re\n",
    "\n",
    "folder_path = r'c:\\\\Users\\\\lucas\\\\OneDrive - PUCRS - BR\\\\Arquivos Aula\\\\CC\\\\Projetos\\\\MyPythonStuff\\\\extracted_exercise'\n",
    "\n",
    "def func():\n",
    "    for folder,_,file in os.walk(folder_path):\n",
    "        for fil in file:\n",
    "            full_path = os.path.join(folder,fil)\n",
    "            if os.path.exists(full_path):\n",
    "                with open(full_path) as opened_file:\n",
    "                    phone_match = r'\\\\d{3}-\\\\d{3}-\\\\d{4}'\n",
    "                    for line in opened_file:\n",
    "                        phone = re.search(phone_match,line)\n",
    "                        if phone:\n",
    "                            print(phone.group())\n",
    "'''\n",
    "\n",
    "timeit.timeit(stmt,setup,number=1)"
   ]
  },
  {
   "cell_type": "markdown",
   "metadata": {},
   "source": [
    "OPTION 3"
   ]
  },
  {
   "cell_type": "code",
   "execution_count": 73,
   "metadata": {},
   "outputs": [
    {
     "name": "stdout",
     "output_type": "stream",
     "text": [
      "719-266-2837\n"
     ]
    },
    {
     "data": {
      "text/plain": [
       "0.033747400004358497"
      ]
     },
     "execution_count": 73,
     "metadata": {},
     "output_type": "execute_result"
    }
   ],
   "source": [
    "import timeit\n",
    "stmt = '''\n",
    "func()\n",
    "'''\n",
    "\n",
    "setup = '''\n",
    "import os\n",
    "import re\n",
    "\n",
    "folder_path = r'c:\\\\Users\\\\lucas\\\\OneDrive - PUCRS - BR\\\\Arquivos Aula\\\\CC\\\\Projetos\\\\MyPythonStuff\\\\extracted_exercise'\n",
    "\n",
    "def search(file_path, phone_pattern=r'\\\\d{3}-\\\\d{3}-\\\\d{4}'):\n",
    "    if os.path.exists(file_path):\n",
    "        with open(file_path) as opened_file:\n",
    "            for match in re.finditer(phone_pattern,opened_file.read()):\n",
    "                print(match.group())\n",
    "\n",
    "def func():\n",
    "    for folder,_,file in os.walk(folder_path):\n",
    "        for fil in file:\n",
    "            full_path = os.path.join(folder,fil)\n",
    "            search(full_path)\n",
    "'''\n",
    "\n",
    "timeit.timeit(stmt,setup,number=1)"
   ]
  },
  {
   "cell_type": "code",
   "execution_count": 78,
   "metadata": {},
   "outputs": [],
   "source": [
    "import os\n",
    "import re\n",
    "\n",
    "folder_path = 'c:\\\\Users\\\\lucas\\\\OneDrive - PUCRS - BR\\\\Arquivos Aula\\\\CC\\\\Projetos\\\\MyPythonStuff\\\\extracted_exercise'\n",
    "phone_match = r'\\\\d{3}-\\\\d{3}-\\\\d{4}'\n",
    "\n",
    "def search(file_path, phone_pattern=r'\\\\d{3}-\\\\d{3}-\\\\d{4}'):\n",
    "    if os.path.exists(file_path):\n",
    "        with open(file_path) as opened_file:\n",
    "            for match in re.finditer(phone_pattern,opened_file.read()):\n",
    "                print(match.group())\n",
    "\n",
    "def func_one():\n",
    "    for folder,_,file in os.walk(folder_path):\n",
    "        for fil in file:\n",
    "            full_path = os.path.join(folder,fil)\n",
    "            search(full_path)\n",
    "            \n",
    "def func_two():\n",
    "    for folder,_,file in os.walk(folder_path):\n",
    "        for fil in file:\n",
    "            full_path = os.path.join(folder,fil)\n",
    "            if os.path.exists(full_path):\n",
    "                with open(full_path) as opened_file:\n",
    "                    for match in re.finditer(phone_match,opened_file.read()):\n",
    "                        print(match.group())"
   ]
  },
  {
   "cell_type": "code",
   "execution_count": 80,
   "metadata": {},
   "outputs": [
    {
     "name": "stdout",
     "output_type": "stream",
     "text": [
      "25.2 ms ± 138 µs per loop (mean ± std. dev. of 7 runs, 10 loops each)\n"
     ]
    }
   ],
   "source": [
    "%%timeit\n",
    "func_one()"
   ]
  },
  {
   "cell_type": "code",
   "execution_count": 81,
   "metadata": {},
   "outputs": [
    {
     "name": "stdout",
     "output_type": "stream",
     "text": [
      "25.2 ms ± 259 µs per loop (mean ± std. dev. of 7 runs, 10 loops each)\n"
     ]
    }
   ],
   "source": [
    "%%timeit\n",
    "func_two()"
   ]
  }
 ],
 "metadata": {
  "kernelspec": {
   "display_name": "base",
   "language": "python",
   "name": "python3"
  },
  "language_info": {
   "codemirror_mode": {
    "name": "ipython",
    "version": 3
   },
   "file_extension": ".py",
   "mimetype": "text/x-python",
   "name": "python",
   "nbconvert_exporter": "python",
   "pygments_lexer": "ipython3",
   "version": "3.11.7"
  }
 },
 "nbformat": 4,
 "nbformat_minor": 2
}
