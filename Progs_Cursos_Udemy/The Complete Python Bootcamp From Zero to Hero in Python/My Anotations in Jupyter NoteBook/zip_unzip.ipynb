{
 "cells": [
  {
   "cell_type": "code",
   "execution_count": 12,
   "metadata": {},
   "outputs": [],
   "source": [
    "dir_to_fil = 'c:\\\\Users\\\\lucas\\\\OneDrive - PUCRS - BR\\\\Arquivos Aula\\\\CC\\\\Projetos\\\\MyPythonStuff\\\\Progs_Curso_Udemy\\\\Other Files and Folders\\\\Txts\\\\' #To work on your pc you have to put your pwd instead"
   ]
  },
  {
   "cell_type": "code",
   "execution_count": 13,
   "metadata": {},
   "outputs": [],
   "source": [
    "dir_to_folder = 'c:\\\\Users\\\\lucas\\\\OneDrive - PUCRS - BR\\\\Arquivos Aula\\\\CC\\\\Projetos\\\\MyPythonStuff\\\\Progs_Curso_Udemy\\\\Other Files and Folders\\\\'"
   ]
  },
  {
   "cell_type": "code",
   "execution_count": 14,
   "metadata": {},
   "outputs": [],
   "source": [
    "f = open(dir_to_fil+'fileone.txt', 'w+')\n",
    "f.write('ONE FILE')\n",
    "f.close()"
   ]
  },
  {
   "cell_type": "code",
   "execution_count": 15,
   "metadata": {},
   "outputs": [],
   "source": [
    "f = open(dir_to_fil+'filetwo.txt', 'w+')\n",
    "f.write('TWO FILE')\n",
    "f.close()"
   ]
  },
  {
   "cell_type": "code",
   "execution_count": 108,
   "metadata": {},
   "outputs": [],
   "source": [
    "import zipfile"
   ]
  },
  {
   "cell_type": "code",
   "execution_count": 109,
   "metadata": {},
   "outputs": [],
   "source": [
    "comp_file = zipfile.ZipFile(dir_to_folder+'comp_file.zip','w')"
   ]
  },
  {
   "cell_type": "code",
   "execution_count": 111,
   "metadata": {},
   "outputs": [],
   "source": [
    "comp_file.write(dir_to_fil+'fileone.txt',compress_type=zipfile.ZIP_DEFLATED)"
   ]
  },
  {
   "cell_type": "code",
   "execution_count": 113,
   "metadata": {},
   "outputs": [],
   "source": [
    "comp_file.write(dir_to_fil+'filetwo.txt',compress_type=zipfile.ZIP_DEFLATED)"
   ]
  },
  {
   "cell_type": "code",
   "execution_count": 114,
   "metadata": {},
   "outputs": [],
   "source": [
    "comp_file.close()"
   ]
  },
  {
   "cell_type": "code",
   "execution_count": 115,
   "metadata": {},
   "outputs": [],
   "source": [
    "zip_obj = zipfile.ZipFile(dir_to_folder+'comp_file.zip','r') #Unzipping"
   ]
  },
  {
   "cell_type": "code",
   "execution_count": 116,
   "metadata": {},
   "outputs": [],
   "source": [
    "zip_obj.extractall(dir_to_fil+'extracted_content') # inside it has .txt files"
   ]
  },
  {
   "cell_type": "code",
   "execution_count": 117,
   "metadata": {},
   "outputs": [
    {
     "data": {
      "text/plain": [
       "'c:\\\\Users\\\\lucas\\\\OneDrive - PUCRS - BR\\\\Arquivos Aula\\\\CC\\\\Projetos\\\\MyPythonStuff\\\\Progs_Curso_Udemy'"
      ]
     },
     "execution_count": 117,
     "metadata": {},
     "output_type": "execute_result"
    }
   ],
   "source": [
    "pwd"
   ]
  },
  {
   "cell_type": "code",
   "execution_count": 137,
   "metadata": {},
   "outputs": [],
   "source": [
    "import shutil"
   ]
  },
  {
   "cell_type": "code",
   "execution_count": 141,
   "metadata": {},
   "outputs": [],
   "source": [
    "dir_to_zip = 'c:\\\\Users\\\\lucas\\\\OneDrive - PUCRS - BR\\\\Arquivos Aula\\\\CC\\\\Projetos\\\\MyPythonStuff\\\\Progs_Curso_Udemy\\\\Other Files and Folders'"
   ]
  },
  {
   "cell_type": "code",
   "execution_count": 142,
   "metadata": {},
   "outputs": [],
   "source": [
    "output_filename = 'c:\\\\Users\\\\lucas\\\\OneDrive - PUCRS - BR\\\\Arquivos Aula\\\\CC\\\\Projetos\\\\MyPythonStuff\\\\Progs_Curso_Udemy\\\\example'"
   ]
  },
  {
   "cell_type": "code",
   "execution_count": 143,
   "metadata": {},
   "outputs": [
    {
     "data": {
      "text/plain": [
       "'c:\\\\Users\\\\lucas\\\\OneDrive - PUCRS - BR\\\\Arquivos Aula\\\\CC\\\\Projetos\\\\MyPythonStuff\\\\Progs_Curso_Udemy\\\\example.zip'"
      ]
     },
     "execution_count": 143,
     "metadata": {},
     "output_type": "execute_result"
    }
   ],
   "source": [
    "shutil.make_archive(output_filename,'zip',dir_to_zip)\n"
   ]
  },
  {
   "cell_type": "code",
   "execution_count": 144,
   "metadata": {},
   "outputs": [],
   "source": [
    "shutil.unpack_archive('example.zip',dir_to_zip+'\\\\final_unzip','zip')"
   ]
  },
  {
   "cell_type": "code",
   "execution_count": null,
   "metadata": {},
   "outputs": [],
   "source": []
  }
 ],
 "metadata": {
  "kernelspec": {
   "display_name": "base",
   "language": "python",
   "name": "python3"
  },
  "language_info": {
   "codemirror_mode": {
    "name": "ipython",
    "version": 3
   },
   "file_extension": ".py",
   "mimetype": "text/x-python",
   "name": "python",
   "nbconvert_exporter": "python",
   "pygments_lexer": "ipython3",
   "version": "3.11.7"
  }
 },
 "nbformat": 4,
 "nbformat_minor": 2
}
