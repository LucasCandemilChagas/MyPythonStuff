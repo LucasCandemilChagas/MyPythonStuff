{
 "cells": [
  {
   "cell_type": "code",
   "execution_count": 1,
   "metadata": {},
   "outputs": [
    {
     "data": {
      "text/plain": [
       "'c:\\\\Users\\\\lucas\\\\OneDrive - PUCRS - BR\\\\Arquivos Aula\\\\CC\\\\Projetos\\\\MyPythonStuff'"
      ]
     },
     "execution_count": 1,
     "metadata": {},
     "output_type": "execute_result"
    }
   ],
   "source": [
    "pwd"
   ]
  },
  {
   "cell_type": "code",
   "execution_count": 3,
   "metadata": {},
   "outputs": [],
   "source": [
    "f = open('practice.txt','w+')\n",
    "f.write('This is a test string')\n",
    "f.close()"
   ]
  },
  {
   "cell_type": "code",
   "execution_count": 4,
   "metadata": {},
   "outputs": [],
   "source": [
    "import os"
   ]
  },
  {
   "cell_type": "code",
   "execution_count": 5,
   "metadata": {},
   "outputs": [
    {
     "data": {
      "text/plain": [
       "'c:\\\\Users\\\\lucas\\\\OneDrive - PUCRS - BR\\\\Arquivos Aula\\\\CC\\\\Projetos\\\\MyPythonStuff'"
      ]
     },
     "execution_count": 5,
     "metadata": {},
     "output_type": "execute_result"
    }
   ],
   "source": [
    "os.getcwd()"
   ]
  },
  {
   "cell_type": "code",
   "execution_count": 6,
   "metadata": {},
   "outputs": [
    {
     "data": {
      "text/plain": [
       "['.git',\n",
       " '.gitignore',\n",
       " '.ipynb_checkpoints',\n",
       " '.json',\n",
       " '.py',\n",
       " '.vscode',\n",
       " 'ackerman.ipynb',\n",
       " 'args_kwargs.ipynb',\n",
       " 'boolean.ipynb',\n",
       " 'class1.ipynb',\n",
       " 'collections.ipynb',\n",
       " 'comparison.ipynb',\n",
       " 'Complete-Python-3-Bootcamp-master',\n",
       " 'comprehension.ipynb',\n",
       " 'decorator.ipynb',\n",
       " 'def.ipynb',\n",
       " 'dictionaries.ipynb',\n",
       " 'diplayInf.ipynb',\n",
       " 'dunderMethods.ipynb',\n",
       " 'errorException.ipynb',\n",
       " 'files.ipynb',\n",
       " 'formatString.ipynb',\n",
       " 'func_int_func.ipynb',\n",
       " 'game.ipynb',\n",
       " 'generator.ipynb',\n",
       " 'hello.ipynb',\n",
       " 'if.ipynb',\n",
       " 'immutability.ipynb',\n",
       " 'indexing.ipynb',\n",
       " 'List.ipynb',\n",
       " 'loopfor.ipynb',\n",
       " 'mapLambdaFliter.ipynb',\n",
       " 'methodsandDoc.ipynb',\n",
       " 'nestedScope.ipynb',\n",
       " 'OOP.ipynb',\n",
       " 'open_reading_fileandfolders.ipynb',\n",
       " 'Pedidos.json',\n",
       " 'practice.txt',\n",
       " 'README.md',\n",
       " 'sets.ipynb',\n",
       " 'Strings.ipynb',\n",
       " 'testFile.txt',\n",
       " 'trabGIncompleto',\n",
       " 'tuples.ipynb',\n",
       " 'tuple_def.ipynb',\n",
       " 'Txts',\n",
       " 'types.ipynb',\n",
       " 'useful.ipynb',\n",
       " 'while.ipynb']"
      ]
     },
     "execution_count": 6,
     "metadata": {},
     "output_type": "execute_result"
    }
   ],
   "source": [
    "os.listdir()"
   ]
  },
  {
   "cell_type": "code",
   "execution_count": 7,
   "metadata": {},
   "outputs": [
    {
     "data": {
      "text/plain": [
       "['All Users',\n",
       " 'Default',\n",
       " 'Default User',\n",
       " 'desktop.ini',\n",
       " 'IGmaerBraseil',\n",
       " 'lucas',\n",
       " 'Public',\n",
       " 'Todos os Usuários',\n",
       " 'Usuário Padrão']"
      ]
     },
     "execution_count": 7,
     "metadata": {},
     "output_type": "execute_result"
    }
   ],
   "source": [
    "os.listdir('c:\\\\Users')"
   ]
  },
  {
   "cell_type": "code",
   "execution_count": 8,
   "metadata": {},
   "outputs": [],
   "source": [
    "import shutil"
   ]
  },
  {
   "cell_type": "code",
   "execution_count": 11,
   "metadata": {},
   "outputs": [
    {
     "name": "stdout",
     "output_type": "stream",
     "text": [
      "Currently looking at C:\\Users\\lucas\\OneDrive - PUCRS - BR\\Arquivos Aula\\CC\\Projetos\\MyPythonStuff\\Complete-Python-3-Bootcamp-master\\12-Advanced Python Modules\\Example_Top_Level\n",
      "\n",
      "\n",
      "The subfolders are: \n",
      "Subfolder: Mid-Example-One\n",
      "\n",
      "\n",
      "The files are: \n",
      "File: Mid-Example.txt\n",
      "\n",
      "\n",
      "Currently looking at C:\\Users\\lucas\\OneDrive - PUCRS - BR\\Arquivos Aula\\CC\\Projetos\\MyPythonStuff\\Complete-Python-3-Bootcamp-master\\12-Advanced Python Modules\\Example_Top_Level\\Mid-Example-One\n",
      "\n",
      "\n",
      "The subfolders are: \n",
      "Subfolder: Bottom-Level-One\n",
      "Subfolder: Bottom-Level-Two\n",
      "\n",
      "\n",
      "The files are: \n",
      "File: Mid-Level-Doc.txt\n",
      "\n",
      "\n",
      "Currently looking at C:\\Users\\lucas\\OneDrive - PUCRS - BR\\Arquivos Aula\\CC\\Projetos\\MyPythonStuff\\Complete-Python-3-Bootcamp-master\\12-Advanced Python Modules\\Example_Top_Level\\Mid-Example-One\\Bottom-Level-One\n",
      "\n",
      "\n",
      "The subfolders are: \n",
      "\n",
      "\n",
      "The files are: \n",
      "File: One_Text.txt\n",
      "\n",
      "\n",
      "Currently looking at C:\\Users\\lucas\\OneDrive - PUCRS - BR\\Arquivos Aula\\CC\\Projetos\\MyPythonStuff\\Complete-Python-3-Bootcamp-master\\12-Advanced Python Modules\\Example_Top_Level\\Mid-Example-One\\Bottom-Level-Two\n",
      "\n",
      "\n",
      "The subfolders are: \n",
      "\n",
      "\n",
      "The files are: \n",
      "File: Bottom-Text-Two.txt\n",
      "\n",
      "\n"
     ]
    }
   ],
   "source": [
    "file_path = 'C:\\\\Users\\\\lucas\\\\OneDrive - PUCRS - BR\\\\Arquivos Aula\\\\CC\\\\Projetos\\\\MyPythonStuff\\\\Complete-Python-3-Bootcamp-master\\\\12-Advanced Python Modules\\\\Example_Top_Level'\n",
    "for folder, sub_folder, file in os.walk(file_path):\n",
    "    print(f'Currently looking at {folder}')\n",
    "    print('\\n')\n",
    "    print('The subfolders are: ')\n",
    "    for sub_fold in sub_folder:\n",
    "        print(f'Subfolder: {sub_fold}')\n",
    "    print('\\n')\n",
    "    print('The files are: ')\n",
    "    for fil in file:\n",
    "        print(f'File: {fil}')\n",
    "    print('\\n')"
   ]
  },
  {
   "cell_type": "code",
   "execution_count": null,
   "metadata": {},
   "outputs": [],
   "source": []
  }
 ],
 "metadata": {
  "kernelspec": {
   "display_name": "Python 3",
   "language": "python",
   "name": "python3"
  },
  "language_info": {
   "codemirror_mode": {
    "name": "ipython",
    "version": 3
   },
   "file_extension": ".py",
   "mimetype": "text/x-python",
   "name": "python",
   "nbconvert_exporter": "python",
   "pygments_lexer": "ipython3",
   "version": "3.11.2"
  },
  "orig_nbformat": 4
 },
 "nbformat": 4,
 "nbformat_minor": 2
}
