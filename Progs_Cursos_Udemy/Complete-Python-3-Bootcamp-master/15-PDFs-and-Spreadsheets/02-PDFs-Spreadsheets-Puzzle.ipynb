{
 "cells": [
  {
   "cell_type": "markdown",
   "metadata": {},
   "source": [
    "___\n",
    "\n",
    "<a href='https://www.udemy.com/user/joseportilla/'><img src='../Pierian_Data_Logo.png'/></a>\n",
    "___\n",
    "<center><em>Content Copyright by Pierian Data</em></center>"
   ]
  },
  {
   "cell_type": "markdown",
   "metadata": {},
   "source": [
    "# PDFs and Spreadsheets Puzzle Exercise\n",
    "\n",
    "Let's test your skills, the files needed for this puzzle exercise\n",
    "\n",
    "You will need to work with two files for this exercise and solve the following tasks:\n",
    "\n",
    "* Task One: Use Python to extract the Google Drive link from the .csv file. (Hint: Its along the diagonal from top left to bottom right).\n",
    "* Task Two: Download the PDF from the Google Drive link (we already downloaded it for you just in case you can't download from Google Drive) and find the phone number that is in the document. Note: There are different ways of formatting a phone number!"
   ]
  },
  {
   "cell_type": "markdown",
   "metadata": {},
   "source": [
    "## Task One: Grab the Google Drive Link from .csv File"
   ]
  },
  {
   "cell_type": "code",
   "execution_count": 4,
   "metadata": {},
   "outputs": [],
   "source": [
    "dir = 'c:\\\\Users\\\\lucas\\\\OneDrive - PUCRS - BR\\\\Arquivos Aula\\\\CC\\\\Projetos\\\\MyPythonStuff\\\\Progs_Curso_Udemy\\\\Complete-Python-3-Bootcamp-master\\\\15-PDFs-and-Spreadsheets\\\\Exercise_Files\\\\'"
   ]
  },
  {
   "cell_type": "code",
   "execution_count": 22,
   "metadata": {
    "collapsed": true
   },
   "outputs": [
    {
     "name": "stdout",
     "output_type": "stream",
     "text": [
      "https://drive.google.com/open?id=1G6SEgg018UB4_4xsAJJ5TdzrhmXipr4Q\n"
     ]
    }
   ],
   "source": [
    "import csv\n",
    "\n",
    "csv_data = open(dir+'find_the_link.csv')\n",
    "\n",
    "csv_reader = csv.reader(csv_data)\n",
    "\n",
    "link = ''\n",
    "\n",
    "for i,line in enumerate(list(csv_reader)):\n",
    "    link+=line[i]\n",
    "print(link)\n",
    "    "
   ]
  },
  {
   "cell_type": "code",
   "execution_count": 14,
   "metadata": {},
   "outputs": [
    {
     "data": {
      "text/plain": [
       "'https://drive.google.com/open?id=1G6SEgg018UB4_4xsAJJ5TdzrhmXipr4Q'"
      ]
     },
     "execution_count": 14,
     "metadata": {},
     "output_type": "execute_result"
    }
   ],
   "source": [
    "# THe correct result is shown below, if you can't download from Google Drive, \n",
    "# we added the PDF file to the Exercise_Files folder already"
   ]
  },
  {
   "cell_type": "markdown",
   "metadata": {},
   "source": [
    "## Task Two: Download the PDF from the Google Drive link and find the phone number that is in the document. "
   ]
  },
  {
   "cell_type": "code",
   "execution_count": 33,
   "metadata": {
    "collapsed": true
   },
   "outputs": [
    {
     "name": "stdout",
     "output_type": "stream",
     "text": [
      "505.503.4455\n"
     ]
    }
   ],
   "source": [
    "# You should get this phone number\n",
    "# 505 503 4455\n",
    "import PyPDF2\n",
    "\n",
    "import re\n",
    "\n",
    "with open(dir+'Find_the_Phone_Number.pdf','rb') as pdf:\n",
    "\n",
    "    pdf_reader = PyPDF2.PdfFileReader(pdf)\n",
    "    \n",
    "    for numPage in range(pdf_reader.numPages):\n",
    "        page = pdf_reader.getPage(numPage)\n",
    "        text = page.extract_text()\n",
    "        phone_number = re.search(r'\\d{3}.\\d{3}.\\d{4}',text)\n",
    "        if phone_number:\n",
    "            print(phone_number.group())\n",
    "            break\n",
    "      \n",
    "        \n",
    "        "
   ]
  }
 ],
 "metadata": {
  "anaconda-cloud": {},
  "kernelspec": {
   "display_name": "Python 3",
   "language": "python",
   "name": "python3"
  },
  "language_info": {
   "codemirror_mode": {
    "name": "ipython",
    "version": 3
   },
   "file_extension": ".py",
   "mimetype": "text/x-python",
   "name": "python",
   "nbconvert_exporter": "python",
   "pygments_lexer": "ipython3",
   "version": "3.11.7"
  }
 },
 "nbformat": 4,
 "nbformat_minor": 2
}
