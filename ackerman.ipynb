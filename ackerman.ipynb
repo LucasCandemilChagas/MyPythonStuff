{
 "cells": [
  {
   "cell_type": "code",
   "execution_count": null,
   "metadata": {},
   "outputs": [],
   "source": [
    "f = 0\n",
    "def A(m, n):  \n",
    "    if m > 0 and n == 0:\n",
    "        print(f\"        = A({m} - 1, 1)\")\n",
    "        print(f\"        = A({m-1}, 1)\")\n",
    "        return A(m - 1, 1)\n",
    "    elif m > 0 and n > 0:\n",
    "        print(f\"          = A({m} - 1, A({m}, {n} - 1))\")\n",
    "        print(f\"          = A({m-1}, A({m}, {n-1}))\")\n",
    "        return A(m - 1, A(m, n - 1))\n",
    "    elif m == 0 and n >= 0:  \n",
    "        print(f\"        = A({m}, {n}) \")\n",
    "        return n+1\n",
    "    return 0\n"
   ]
  },
  {
   "cell_type": "code",
   "execution_count": 2,
   "metadata": {},
   "outputs": [
    {
     "name": "stdout",
     "output_type": "stream",
     "text": [
      "A(1, 0) = \n",
      "        = A(1 - 1, 1)\n",
      "        = A(0, 1)\n",
      "        = A(0, 1) \n"
     ]
    }
   ],
   "source": [
    "print(f\"A(1, 0) = \")\n",
    "n = A(1, 0)"
   ]
  },
  {
   "cell_type": "code",
   "execution_count": 3,
   "metadata": {},
   "outputs": [
    {
     "data": {
      "text/plain": [
       "2"
      ]
     },
     "execution_count": 3,
     "metadata": {},
     "output_type": "execute_result"
    }
   ],
   "source": [
    "n"
   ]
  }
 ],
 "metadata": {
  "kernelspec": {
   "display_name": "Python 3",
   "language": "python",
   "name": "python3"
  },
  "language_info": {
   "codemirror_mode": {
    "name": "ipython",
    "version": 3
   },
   "file_extension": ".py",
   "mimetype": "text/x-python",
   "name": "python",
   "nbconvert_exporter": "python",
   "pygments_lexer": "ipython3",
   "version": "3.11.7"
  },
  "orig_nbformat": 4
 },
 "nbformat": 4,
 "nbformat_minor": 2
}
